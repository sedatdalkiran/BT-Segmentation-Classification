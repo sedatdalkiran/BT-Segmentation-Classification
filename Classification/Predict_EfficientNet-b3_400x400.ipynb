{
 "cells": [
  {
   "cell_type": "code",
   "execution_count": null,
   "metadata": {
    "colab": {
     "base_uri": "https://localhost:8080/"
    },
    "executionInfo": {
     "elapsed": 18406,
     "status": "ok",
     "timestamp": 1622391706162,
     "user": {
      "displayName": "Teknofest Takım-3",
      "photoUrl": "",
      "userId": "02802986957066525201"
     },
     "user_tz": -180
    },
    "id": "96m6k2RXMmMN",
    "outputId": "2f4a15c8-826f-4c88-f155-24d9bfad9bc9"
   },
   "outputs": [
    {
     "name": "stdout",
     "output_type": "stream",
     "text": [
      "Mounted at /content/drive/\n"
     ]
    }
   ],
   "source": [
    "from google.colab import drive\n",
    "drive.mount('/content/drive/')"
   ]
  },
  {
   "cell_type": "code",
   "execution_count": 1,
   "metadata": {
    "executionInfo": {
     "elapsed": 5652,
     "status": "ok",
     "timestamp": 1632083331749,
     "user": {
      "displayName": "Teknofest Takım-3",
      "photoUrl": "https://lh3.googleusercontent.com/a/default-user=s64",
      "userId": "02802986957066525201"
     },
     "user_tz": -180
    },
    "id": "HWRO4XsBMtzg"
   },
   "outputs": [],
   "source": [
    "from pathlib import Path\n",
    "import pandas as pd\n",
    "import os\n",
    "from torch.utils.data import Dataset,DataLoader\n",
    "from PIL import Image\n",
    "from torchvision import transforms as T\n",
    "import torch.nn as nn\n",
    "import torch\n",
    "import torch.nn.functional as F\n",
    "from sklearn.model_selection import GroupKFold, KFold, StratifiedKFold\n",
    "from sklearn.model_selection import train_test_split\n",
    "import numpy as np\n",
    "from fastprogress.fastprogress import master_bar, progress_bar\n",
    "from sklearn.metrics import accuracy_score, roc_auc_score, f1_score\n",
    "from torchvision import models\n",
    "import pdb\n",
    "import albumentations as A\n",
    "from albumentations.pytorch.transforms import ToTensor\n",
    "import matplotlib.pyplot as plt\n",
    "import pickle\n",
    "import cv2\n",
    "import time"
   ]
  },
  {
   "cell_type": "code",
   "execution_count": null,
   "metadata": {
    "colab": {
     "base_uri": "https://localhost:8080/"
    },
    "executionInfo": {
     "elapsed": 5500,
     "status": "ok",
     "timestamp": 1622391716670,
     "user": {
      "displayName": "Teknofest Takım-3",
      "photoUrl": "",
      "userId": "02802986957066525201"
     },
     "user_tz": -180
    },
    "id": "gTSBIZZaM0so",
    "outputId": "204c4cd1-1f05-4493-d725-96d27dfced6e"
   },
   "outputs": [
    {
     "name": "stdout",
     "output_type": "stream",
     "text": [
      "Collecting efficientnet_pytorch\n",
      "  Downloading https://files.pythonhosted.org/packages/2e/a0/dd40b50aebf0028054b6b35062948da01123d7be38d08b6b1e5435df6363/efficientnet_pytorch-0.7.1.tar.gz\n",
      "Requirement already satisfied: torch in /usr/local/lib/python3.7/dist-packages (from efficientnet_pytorch) (1.8.1+cu101)\n",
      "Requirement already satisfied: typing-extensions in /usr/local/lib/python3.7/dist-packages (from torch->efficientnet_pytorch) (3.7.4.3)\n",
      "Requirement already satisfied: numpy in /usr/local/lib/python3.7/dist-packages (from torch->efficientnet_pytorch) (1.19.5)\n",
      "Building wheels for collected packages: efficientnet-pytorch\n",
      "  Building wheel for efficientnet-pytorch (setup.py) ... \u001b[?25l\u001b[?25hdone\n",
      "  Created wheel for efficientnet-pytorch: filename=efficientnet_pytorch-0.7.1-cp37-none-any.whl size=16443 sha256=86058e867faee4ee6af2006a11be8372bd0d96b85f0e544aa735a6909d749846\n",
      "  Stored in directory: /root/.cache/pip/wheels/84/27/aa/c46d23c4e8cc72d41283862b1437e0b3ad318417e8ed7d5921\n",
      "Successfully built efficientnet-pytorch\n",
      "Installing collected packages: efficientnet-pytorch\n",
      "Successfully installed efficientnet-pytorch-0.7.1\n"
     ]
    }
   ],
   "source": [
    "!pip install efficientnet_pytorch"
   ]
  },
  {
   "cell_type": "code",
   "execution_count": 2,
   "metadata": {
    "colab": {
     "base_uri": "https://localhost:8080/"
    },
    "executionInfo": {
     "elapsed": 808,
     "status": "ok",
     "timestamp": 1632083353192,
     "user": {
      "displayName": "Teknofest Takım-3",
      "photoUrl": "https://lh3.googleusercontent.com/a/default-user=s64",
      "userId": "02802986957066525201"
     },
     "user_tz": -180
    },
    "id": "mu7SQqk4vxO9",
    "outputId": "e0edc894-fcf5-45c5-b9ec-df5b36bf040a"
   },
   "outputs": [
    {
     "name": "stdout",
     "output_type": "stream",
     "text": [
      "1.9.0+cu102\n"
     ]
    }
   ],
   "source": [
    "import torch\n",
    "print(torch.__version__)"
   ]
  },
  {
   "cell_type": "code",
   "execution_count": null,
   "metadata": {
    "id": "KLWUDczWM0x-"
   },
   "outputs": [],
   "source": [
    "from efficientnet_pytorch import EfficientNet"
   ]
  },
  {
   "cell_type": "code",
   "execution_count": null,
   "metadata": {
    "id": "TDGV59l9M10v"
   },
   "outputs": [],
   "source": [
    "models_path = '/content/drive/MyDrive/aROI_Merged_Data_30_05_2021/weights/'\n",
    "model_pth_name= \"efficientnet-b3_0.9716981132075472_10_3_400-400.pth\"\n",
    "model_name='efficientnet-b3'\n",
    "\n",
    "test_dir='/content/drive/MyDrive/aROI_Merged_Data_30_05_2021/test/'\n",
    "sizes=400\n"
   ]
  },
  {
   "cell_type": "code",
   "execution_count": null,
   "metadata": {
    "id": "tvspbRlhNFqn"
   },
   "outputs": [],
   "source": [
    "def get_model(model_name,lr=1e-5,wd=0.01,freeze_backbone=False,opt_fn=torch.optim.AdamW,device=None):\n",
    "    if device is None:\n",
    "        device = torch.device(\"cuda\") if torch.cuda.is_available() else torch.device(\"cpu\")\n",
    "    if model_name.startswith('dense'):\n",
    "        model = TeknofestDenseNet(model_name=model_name)\n",
    "    elif model_name.startswith('eff'):\n",
    "        model = TeknofestEfficientNet(model_name=model_name)\n",
    "    elif model_name.startswith('res'):\n",
    "        model = TeknofestResNet(model_name=model_name)\n",
    "    if freeze_backbone:\n",
    "        for parameter in model.backbone.parameters():\n",
    "            parameter.requires_grad = False\n",
    "    opt = opt_fn(model.parameters(),lr=lr,weight_decay=wd)\n",
    "    model = model.to(device)\n",
    "    return model, opt\n",
    "\n",
    "\n",
    "class TeknofestEfficientNet(nn.Module):\n",
    "    def __init__(self,model_name,pool_type=F.adaptive_avg_pool2d):\n",
    "        super().__init__()\n",
    "        self.pool_type = pool_type\n",
    "        self.backbone = EfficientNet.from_pretrained(model_name)\n",
    "        in_features = getattr(self.backbone,'_fc').in_features\n",
    "        self.classifier = nn.Linear(in_features,1)\n",
    "\n",
    "    def forward(self,x):\n",
    "        features = self.pool_type(self.backbone.extract_features(x),1)\n",
    "        features = features.view(x.size(0),-1)\n",
    "        return self.classifier(features)\n",
    "\n",
    "\n",
    "def get_augs_test(p,height,width):\n",
    "#     p=0.5\n",
    "    test_tfms = A.Compose([\n",
    "        A.Resize(height, width),\n",
    "        ])\n",
    "    return test_tfms\n",
    "\n",
    "\n",
    "class TeknofestDataset(Dataset):\n",
    "    def __init__(self,im_path,transforms=None,is_test=False):\n",
    "        # self.df = df\n",
    "        self.im_path = im_path\n",
    "        self.transforms = transforms\n",
    "        self.is_test = is_test\n",
    "        \n",
    "    def __getitem__(self,idx):\n",
    "        img_path = f\"{self.im_path}\"\n",
    "        img = Image.open(img_path).convert(\"RGB\")\n",
    "        if self.transforms:\n",
    "                img = self.transforms(image=np.array(img))[\"image\"]\n",
    "        if self.is_test:\n",
    "            return img\n",
    "        # target = self.df.iloc[idx]['label']\n",
    "        # return img, torch.tensor([target],dtype=torch.float32)\n",
    "    \n",
    "    def __len__(self):\n",
    "        # return self.df.shape[0]\n",
    "        return 1\n",
    "\n",
    "\n",
    "def get_preds(model,test_ds, test_dl, device=None,tta=1):\n",
    "    if device is None:\n",
    "        device = torch.device(\"cuda\") if torch.cuda.is_available() else torch.device(\"cpu\")\n",
    "    preds = np.zeros(len(test_ds))\n",
    "    for tta_id in range(tta):\n",
    "        test_preds = []\n",
    "        model.eval()\n",
    "        with torch.no_grad():\n",
    "            for xb in test_dl:\n",
    "                xb = xb.to(device)\n",
    "                out = model(xb.permute(0,3,1,2).float())\n",
    "                out = torch.sigmoid(out)\n",
    "                test_preds.extend(out.cpu().numpy())\n",
    "            preds += np.array(test_preds).reshape(-1)\n",
    "        # print(f'TTA {tta_id}')\n",
    "    preds /= tta\n",
    "    return preds"
   ]
  },
  {
   "cell_type": "code",
   "execution_count": null,
   "metadata": {
    "id": "Fbb4BA6fNT6O"
   },
   "outputs": [],
   "source": [
    "def predict_image_class(file_path: str, models, weights, sizes) -> str:\n",
    "\n",
    "    #TODO:\n",
    "    #all preprocessing & inference steps\n",
    "\n",
    "    preds=[]\n",
    "    for i, model in enumerate(models):\n",
    "        test_ds = TeknofestDataset(im_path=file_path, transforms=get_augs_test(p=0.5, height=sizes[i],width=sizes[i]),is_test=True)\n",
    "        test_dl = DataLoader(dataset=test_ds, batch_size=1, shuffle=False, num_workers=1)\n",
    "        preds.append(get_preds(model, test_ds, test_dl, tta=1))\n",
    "    pred = np.sum([preds[i]*weights[i] for i in range(len(models))])\n",
    "    if pred<0.5: \n",
    "        return 'normal'\n",
    "    else:\n",
    "        return 'anormal'"
   ]
  },
  {
   "cell_type": "code",
   "execution_count": null,
   "metadata": {
    "colab": {
     "base_uri": "https://localhost:8080/",
     "height": 116,
     "referenced_widgets": [
      "da7dc3b71dea42fda52031059e4220f9",
      "5c9176adfef142ddb94329874ddcf06e",
      "27c1d5d7a46541d6acf2ab785682d6ed",
      "aba751f852204bcb831bc46a2f0e0214",
      "bf3c089d8718434d9227ed2a22d83383",
      "3ce5950a6b5341b19dcea4403a448285",
      "9ee91e2ba6f2435c9d425de45f619ecb",
      "34846614185544e4b89d287a8588623a"
     ]
    },
    "executionInfo": {
     "elapsed": 141311,
     "status": "ok",
     "timestamp": 1622393933098,
     "user": {
      "displayName": "Teknofest Takım-3",
      "photoUrl": "",
      "userId": "02802986957066525201"
     },
     "user_tz": -180
    },
    "id": "jUwUzcl9NVJm",
    "outputId": "b92c6838-f3fc-4b68-86e7-a81443c53894"
   },
   "outputs": [
    {
     "name": "stdout",
     "output_type": "stream",
     "text": [
      "/content/drive/MyDrive/aROI_Merged_Data_30_05_2021/test/\n"
     ]
    },
    {
     "name": "stderr",
     "output_type": "stream",
     "text": [
      "Downloading: \"https://github.com/lukemelas/EfficientNet-PyTorch/releases/download/1.0/efficientnet-b3-5fb5a3c3.pth\" to /root/.cache/torch/hub/checkpoints/efficientnet-b3-5fb5a3c3.pth\n"
     ]
    },
    {
     "data": {
      "application/vnd.jupyter.widget-view+json": {
       "model_id": "da7dc3b71dea42fda52031059e4220f9",
       "version_major": 2,
       "version_minor": 0
      },
      "text/plain": [
       "HBox(children=(FloatProgress(value=0.0, max=49388949.0), HTML(value='')))"
      ]
     },
     "metadata": {
      "tags": []
     },
     "output_type": "display_data"
    },
    {
     "name": "stdout",
     "output_type": "stream",
     "text": [
      "\n",
      "Loaded pretrained weights for efficientnet-b3\n"
     ]
    }
   ],
   "source": [
    "import glob\n",
    "import os\n",
    "from pathlib import Path\n",
    "device = torch.device(\"cuda\") if torch.cuda.is_available() else torch.device(\"cpu\")\n",
    "def test(folder_path,model_pth_name,sizes,model_name):\n",
    "    effnet3model, effnet3opt = get_model(model_name=model_name,lr=1e-4,wd=1e-4)\n",
    "    effnet3model.load_state_dict(torch.load(f'{models_path}/{model_pth_name}',map_location=device))\n",
    "    labels = []\n",
    "    predictions = []\n",
    "    for image_path in glob.glob(\"{}/*\".format(test_dir)):\n",
    "        #print(image_path,image_path.split('/')[-1][0])\n",
    "\n",
    "        label = \"normal\" if int(image_path.split('/')[-1][0])==0 else \"anormal\"\n",
    "        \n",
    "        # Predict Image Class \n",
    "        prediction = predict_image_class(str(image_path),\n",
    "                                             models=[effnet3model],\n",
    "                                             weights=[1.0],\n",
    "                                             sizes=[sizes])\n",
    "#         print(image_path.split('/')[-1], prediction)\n",
    "        # Save Predicted and Real label.\n",
    "        predictions.append(prediction)\n",
    "        labels.append(label)\n",
    "        #print(f\"label: {label}, pred: {prediction}\")\n",
    "    return labels, predictions\n",
    "    \n",
    "\n",
    "print(test_dir)\n",
    "y_true, y_pred = test(test_dir,\n",
    "                      model_pth_name=model_pth_name,\n",
    "                      sizes=sizes,\n",
    "                      model_name=model_name)"
   ]
  },
  {
   "cell_type": "code",
   "execution_count": null,
   "metadata": {
    "colab": {
     "base_uri": "https://localhost:8080/"
    },
    "executionInfo": {
     "elapsed": 3,
     "status": "ok",
     "timestamp": 1622393933103,
     "user": {
      "displayName": "Teknofest Takım-3",
      "photoUrl": "",
      "userId": "02802986957066525201"
     },
     "user_tz": -180
    },
    "id": "g520wjWPPoZF",
    "outputId": "dd2bde6a-5bef-4f4a-ca4c-786f949545c1"
   },
   "outputs": [
    {
     "name": "stdout",
     "output_type": "stream",
     "text": [
      "              precision    recall  f1-score   support\n",
      "\n",
      "     anormal       0.68      0.85      0.76       690\n",
      "      normal       0.89      0.75      0.82      1117\n",
      "\n",
      "    accuracy                           0.79      1807\n",
      "   macro avg       0.79      0.80      0.79      1807\n",
      "weighted avg       0.81      0.79      0.79      1807\n",
      "\n"
     ]
    }
   ],
   "source": [
    "from sklearn.metrics import classification_report\n",
    "print(classification_report(y_true, y_pred))"
   ]
  },
  {
   "cell_type": "code",
   "execution_count": null,
   "metadata": {
    "id": "1FwAnOzRPtso"
   },
   "outputs": [],
   "source": []
  }
 ],
 "metadata": {
  "colab": {
   "authorship_tag": "ABX9TyOmDxyLUemzcS2AYb3F0HM1",
   "collapsed_sections": [],
   "name": "Predict_EfficientNet-b3_400x400.ipynb",
   "provenance": []
  },
  "kernelspec": {
   "display_name": "Python 3",
   "language": "python",
   "name": "python3"
  },
  "language_info": {
   "codemirror_mode": {
    "name": "ipython",
    "version": 3
   },
   "file_extension": ".py",
   "mimetype": "text/x-python",
   "name": "python",
   "nbconvert_exporter": "python",
   "pygments_lexer": "ipython3",
   "version": "3.7.6"
  },
  "widgets": {
   "application/vnd.jupyter.widget-state+json": {
    "27c1d5d7a46541d6acf2ab785682d6ed": {
     "model_module": "@jupyter-widgets/controls",
     "model_module_version": "1.5.0",
     "model_name": "FloatProgressModel",
     "state": {
      "_dom_classes": [],
      "_model_module": "@jupyter-widgets/controls",
      "_model_module_version": "1.5.0",
      "_model_name": "FloatProgressModel",
      "_view_count": null,
      "_view_module": "@jupyter-widgets/controls",
      "_view_module_version": "1.5.0",
      "_view_name": "ProgressView",
      "bar_style": "success",
      "description": "100%",
      "description_tooltip": null,
      "layout": "IPY_MODEL_3ce5950a6b5341b19dcea4403a448285",
      "max": 49388949,
      "min": 0,
      "orientation": "horizontal",
      "style": "IPY_MODEL_bf3c089d8718434d9227ed2a22d83383",
      "value": 49388949
     }
    },
    "34846614185544e4b89d287a8588623a": {
     "model_module": "@jupyter-widgets/base",
     "model_module_version": "1.2.0",
     "model_name": "LayoutModel",
     "state": {
      "_model_module": "@jupyter-widgets/base",
      "_model_module_version": "1.2.0",
      "_model_name": "LayoutModel",
      "_view_count": null,
      "_view_module": "@jupyter-widgets/base",
      "_view_module_version": "1.2.0",
      "_view_name": "LayoutView",
      "align_content": null,
      "align_items": null,
      "align_self": null,
      "border": null,
      "bottom": null,
      "display": null,
      "flex": null,
      "flex_flow": null,
      "grid_area": null,
      "grid_auto_columns": null,
      "grid_auto_flow": null,
      "grid_auto_rows": null,
      "grid_column": null,
      "grid_gap": null,
      "grid_row": null,
      "grid_template_areas": null,
      "grid_template_columns": null,
      "grid_template_rows": null,
      "height": null,
      "justify_content": null,
      "justify_items": null,
      "left": null,
      "margin": null,
      "max_height": null,
      "max_width": null,
      "min_height": null,
      "min_width": null,
      "object_fit": null,
      "object_position": null,
      "order": null,
      "overflow": null,
      "overflow_x": null,
      "overflow_y": null,
      "padding": null,
      "right": null,
      "top": null,
      "visibility": null,
      "width": null
     }
    },
    "3ce5950a6b5341b19dcea4403a448285": {
     "model_module": "@jupyter-widgets/base",
     "model_module_version": "1.2.0",
     "model_name": "LayoutModel",
     "state": {
      "_model_module": "@jupyter-widgets/base",
      "_model_module_version": "1.2.0",
      "_model_name": "LayoutModel",
      "_view_count": null,
      "_view_module": "@jupyter-widgets/base",
      "_view_module_version": "1.2.0",
      "_view_name": "LayoutView",
      "align_content": null,
      "align_items": null,
      "align_self": null,
      "border": null,
      "bottom": null,
      "display": null,
      "flex": null,
      "flex_flow": null,
      "grid_area": null,
      "grid_auto_columns": null,
      "grid_auto_flow": null,
      "grid_auto_rows": null,
      "grid_column": null,
      "grid_gap": null,
      "grid_row": null,
      "grid_template_areas": null,
      "grid_template_columns": null,
      "grid_template_rows": null,
      "height": null,
      "justify_content": null,
      "justify_items": null,
      "left": null,
      "margin": null,
      "max_height": null,
      "max_width": null,
      "min_height": null,
      "min_width": null,
      "object_fit": null,
      "object_position": null,
      "order": null,
      "overflow": null,
      "overflow_x": null,
      "overflow_y": null,
      "padding": null,
      "right": null,
      "top": null,
      "visibility": null,
      "width": null
     }
    },
    "5c9176adfef142ddb94329874ddcf06e": {
     "model_module": "@jupyter-widgets/base",
     "model_module_version": "1.2.0",
     "model_name": "LayoutModel",
     "state": {
      "_model_module": "@jupyter-widgets/base",
      "_model_module_version": "1.2.0",
      "_model_name": "LayoutModel",
      "_view_count": null,
      "_view_module": "@jupyter-widgets/base",
      "_view_module_version": "1.2.0",
      "_view_name": "LayoutView",
      "align_content": null,
      "align_items": null,
      "align_self": null,
      "border": null,
      "bottom": null,
      "display": null,
      "flex": null,
      "flex_flow": null,
      "grid_area": null,
      "grid_auto_columns": null,
      "grid_auto_flow": null,
      "grid_auto_rows": null,
      "grid_column": null,
      "grid_gap": null,
      "grid_row": null,
      "grid_template_areas": null,
      "grid_template_columns": null,
      "grid_template_rows": null,
      "height": null,
      "justify_content": null,
      "justify_items": null,
      "left": null,
      "margin": null,
      "max_height": null,
      "max_width": null,
      "min_height": null,
      "min_width": null,
      "object_fit": null,
      "object_position": null,
      "order": null,
      "overflow": null,
      "overflow_x": null,
      "overflow_y": null,
      "padding": null,
      "right": null,
      "top": null,
      "visibility": null,
      "width": null
     }
    },
    "9ee91e2ba6f2435c9d425de45f619ecb": {
     "model_module": "@jupyter-widgets/controls",
     "model_module_version": "1.5.0",
     "model_name": "DescriptionStyleModel",
     "state": {
      "_model_module": "@jupyter-widgets/controls",
      "_model_module_version": "1.5.0",
      "_model_name": "DescriptionStyleModel",
      "_view_count": null,
      "_view_module": "@jupyter-widgets/base",
      "_view_module_version": "1.2.0",
      "_view_name": "StyleView",
      "description_width": ""
     }
    },
    "aba751f852204bcb831bc46a2f0e0214": {
     "model_module": "@jupyter-widgets/controls",
     "model_module_version": "1.5.0",
     "model_name": "HTMLModel",
     "state": {
      "_dom_classes": [],
      "_model_module": "@jupyter-widgets/controls",
      "_model_module_version": "1.5.0",
      "_model_name": "HTMLModel",
      "_view_count": null,
      "_view_module": "@jupyter-widgets/controls",
      "_view_module_version": "1.5.0",
      "_view_name": "HTMLView",
      "description": "",
      "description_tooltip": null,
      "layout": "IPY_MODEL_34846614185544e4b89d287a8588623a",
      "placeholder": "​",
      "style": "IPY_MODEL_9ee91e2ba6f2435c9d425de45f619ecb",
      "value": " 47.1M/47.1M [00:00&lt;00:00, 108MB/s]"
     }
    },
    "bf3c089d8718434d9227ed2a22d83383": {
     "model_module": "@jupyter-widgets/controls",
     "model_module_version": "1.5.0",
     "model_name": "ProgressStyleModel",
     "state": {
      "_model_module": "@jupyter-widgets/controls",
      "_model_module_version": "1.5.0",
      "_model_name": "ProgressStyleModel",
      "_view_count": null,
      "_view_module": "@jupyter-widgets/base",
      "_view_module_version": "1.2.0",
      "_view_name": "StyleView",
      "bar_color": null,
      "description_width": "initial"
     }
    },
    "da7dc3b71dea42fda52031059e4220f9": {
     "model_module": "@jupyter-widgets/controls",
     "model_module_version": "1.5.0",
     "model_name": "HBoxModel",
     "state": {
      "_dom_classes": [],
      "_model_module": "@jupyter-widgets/controls",
      "_model_module_version": "1.5.0",
      "_model_name": "HBoxModel",
      "_view_count": null,
      "_view_module": "@jupyter-widgets/controls",
      "_view_module_version": "1.5.0",
      "_view_name": "HBoxView",
      "box_style": "",
      "children": [
       "IPY_MODEL_27c1d5d7a46541d6acf2ab785682d6ed",
       "IPY_MODEL_aba751f852204bcb831bc46a2f0e0214"
      ],
      "layout": "IPY_MODEL_5c9176adfef142ddb94329874ddcf06e"
     }
    }
   }
  }
 },
 "nbformat": 4,
 "nbformat_minor": 1
}
