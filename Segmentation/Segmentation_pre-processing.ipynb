{
 "cells": [
  {
   "cell_type": "code",
   "execution_count": 88,
   "metadata": {
    "colab": {
     "base_uri": "https://localhost:8080/"
    },
    "executionInfo": {
     "elapsed": 18,
     "status": "ok",
     "timestamp": 1632049776827,
     "user": {
      "displayName": "Teknofest Takım-3",
      "photoUrl": "https://lh3.googleusercontent.com/a/default-user=s64",
      "userId": "02802986957066525201"
     },
     "user_tz": -180
    },
    "id": "kzWoaIJsH0K1",
    "outputId": "2ad248bf-b47b-4a53-e2fd-1601892584d3"
   },
   "outputs": [
    {
     "name": "stdout",
     "output_type": "stream",
     "text": [
      "Drive already mounted at /content/drive/; to attempt to forcibly remount, call drive.mount(\"/content/drive/\", force_remount=True).\n"
     ]
    }
   ],
   "source": [
    "from google.colab import drive\n",
    "drive.mount('/content/drive/')"
   ]
  },
  {
   "cell_type": "code",
   "execution_count": 89,
   "metadata": {
    "colab": {
     "base_uri": "https://localhost:8080/"
    },
    "executionInfo": {
     "elapsed": 263,
     "status": "ok",
     "timestamp": 1632049779825,
     "user": {
      "displayName": "Teknofest Takım-3",
      "photoUrl": "https://lh3.googleusercontent.com/a/default-user=s64",
      "userId": "02802986957066525201"
     },
     "user_tz": -180
    },
    "id": "c3jU53wMIy7D",
    "outputId": "c131fa7b-32c0-40dd-cd88-9554485310f9"
   },
   "outputs": [
    {
     "name": "stdout",
     "output_type": "stream",
     "text": [
      "[Errno 2] No such file or directory: 'drive/MyDrive/to_Sedat_for_testing/Teknofest_Segmentation_PNG'\n",
      "/content/drive/MyDrive/to_Sedat_for_testing/Teknofest_Segmentation_PNG\n"
     ]
    }
   ],
   "source": [
    "%cd drive/MyDrive/to_Sedat_for_testing/Teknofest_Segmentation_PNG"
   ]
  },
  {
   "cell_type": "code",
   "execution_count": 90,
   "metadata": {
    "colab": {
     "base_uri": "https://localhost:8080/"
    },
    "executionInfo": {
     "elapsed": 886,
     "status": "ok",
     "timestamp": 1632049782918,
     "user": {
      "displayName": "Teknofest Takım-3",
      "photoUrl": "https://lh3.googleusercontent.com/a/default-user=s64",
      "userId": "02802986957066525201"
     },
     "user_tz": -180
    },
    "id": "0-RWOjTiqqjH",
    "outputId": "62383e69-a90b-4843-82cf-364d4c76ce7d"
   },
   "outputs": [
    {
     "name": "stdout",
     "output_type": "stream",
     "text": [
      "Oturum2\n",
      "Oturum2_Output_Ready_To_TEST\n",
      "Segmentation_pre-processing.ipynb\n",
      "TEKNOFEST_UnetPlusPlus_timm-efficientnet-b6_Dict.pt\n",
      "test\n",
      "testing-unet-senet154.ipynb\n",
      "Unet_Senet154_Dict_mIoU-0.804.pt\n"
     ]
    }
   ],
   "source": [
    "!ls"
   ]
  },
  {
   "cell_type": "code",
   "execution_count": 91,
   "metadata": {
    "executionInfo": {
     "elapsed": 13,
     "status": "ok",
     "timestamp": 1632049785046,
     "user": {
      "displayName": "Teknofest Takım-3",
      "photoUrl": "https://lh3.googleusercontent.com/a/default-user=s64",
      "userId": "02802986957066525201"
     },
     "user_tz": -180
    },
    "id": "40jageGOIMWi"
   },
   "outputs": [],
   "source": [
    "import cv2\n",
    "import os\n",
    "import time\n",
    "from PIL import Image\n",
    "import numpy as np\n",
    "\n",
    "inputdir = './Oturum2'\n",
    "outdir = './Oturum2_Output_Ready_To_TEST/'"
   ]
  },
  {
   "cell_type": "code",
   "execution_count": null,
   "metadata": {
    "id": "X3Vvr4wvsX26"
   },
   "outputs": [],
   "source": []
  },
  {
   "cell_type": "code",
   "execution_count": 92,
   "metadata": {
    "executionInfo": {
     "elapsed": 407,
     "status": "ok",
     "timestamp": 1632049798890,
     "user": {
      "displayName": "Teknofest Takım-3",
      "photoUrl": "https://lh3.googleusercontent.com/a/default-user=s64",
      "userId": "02802986957066525201"
     },
     "user_tz": -180
    },
    "id": "vYCQlYHYeMOd"
   },
   "outputs": [],
   "source": [
    "def focus_actual_image(image):\n",
    "    \n",
    "    image = cv2.imread(image)\n",
    "    gray = cv2.cvtColor(image, cv2.COLOR_BGR2GRAY)\n",
    "    thresh = cv2.threshold(gray, 0, 255, cv2.THRESH_OTSU + cv2.THRESH_BINARY)[1]\n",
    "    \n",
    "    # Find contour and sort by contour area\n",
    "    cnts = cv2.findContours(thresh, cv2.RETR_EXTERNAL, cv2.CHAIN_APPROX_SIMPLE)\n",
    "    cnts = cnts[0] if len(cnts) == 2 else cnts[1]\n",
    "    cnts = sorted(cnts, key=cv2.contourArea, reverse=True)\n",
    "    \n",
    "    # Find bounding box and extract ROI\n",
    "    for c in cnts:\n",
    "        x,y,w,h = cv2.boundingRect(c)\n",
    "        ROI = image[y:y+h, x:x+w]\n",
    "        \n",
    "        break\n",
    "        \n",
    "    return ROI,x,y,w,h\n",
    "\n",
    "\n",
    "def png2ROI():\n",
    "  i=0\n",
    "  for image in os.listdir(inputdir):\n",
    "      file_name   = image.split(\".\")[0]\n",
    "      #print(file_name)\n",
    "      ROI,x,y,w,h = focus_actual_image(inputdir+\"/{}\".format(image))\n",
    "    \n",
    "      try:\n",
    "          mask = np.asarray(Image.open(inputdir+\"/{}.png\".format(file_name)))\n",
    "          roi_mask= mask[y:y+h, x:x+w]\n",
    "          #print(roi_mask.shape)\n",
    "          roi_mask = Image.fromarray(roi_mask)\n",
    "          #print(type(roi_mask))\n",
    "          roi_mask.save(\"./{}/{}.png\".format(outdir,file_name))\n",
    "      except Exception as e:\n",
    "          print(f\"{e} bir hata oluştu\")\n",
    "      \n",
    "      i+=1\n",
    "      if i%50 ==0 :\n",
    "          time.sleep(1)\n"
   ]
  },
  {
   "cell_type": "code",
   "execution_count": 93,
   "metadata": {
    "executionInfo": {
     "elapsed": 773,
     "status": "ok",
     "timestamp": 1632049799652,
     "user": {
      "displayName": "Teknofest Takım-3",
      "photoUrl": "https://lh3.googleusercontent.com/a/default-user=s64",
      "userId": "02802986957066525201"
     },
     "user_tz": -180
    },
    "id": "kecSrUQAFRpQ"
   },
   "outputs": [],
   "source": [
    "png2ROI()"
   ]
  },
  {
   "cell_type": "code",
   "execution_count": 94,
   "metadata": {
    "executionInfo": {
     "elapsed": 264,
     "status": "ok",
     "timestamp": 1632049842790,
     "user": {
      "displayName": "Teknofest Takım-3",
      "photoUrl": "https://lh3.googleusercontent.com/a/default-user=s64",
      "userId": "02802986957066525201"
     },
     "user_tz": -180
    },
    "id": "kMEsSHMWB0oI"
   },
   "outputs": [],
   "source": [
    "target_size = 512  # 512x512\n",
    "\n",
    "def padding_zeros():\n",
    "\n",
    "    for image in os.listdir(outdir):\n",
    "        file_name   = image.split(\".\")[0]\n",
    "        img = Image.open(outdir + file_name + \".png\")\n",
    "        width, height = img.size\n",
    "       \n",
    "        if width < 512  or height < 512:\n",
    "          left_side = int((target_size - width) / 2)\n",
    "          top_side = int((target_size - height) / 2)\n",
    "          print(img.mode)\n",
    "\n",
    "          result = Image.new(img.mode, (target_size, target_size), (0,0,0))\n",
    "          result.paste(img, (left_side, top_side))\n",
    "          result.save(\"{}{}.png\".format(outdir,file_name))\n",
    "        else:\n",
    "          print(\"else\")\n",
    "          img = img.resize((512,512))\n",
    "          img.save(\"{}{}.png\".format(outdir,file_name))"
   ]
  },
  {
   "cell_type": "code",
   "execution_count": 95,
   "metadata": {
    "colab": {
     "base_uri": "https://localhost:8080/"
    },
    "executionInfo": {
     "elapsed": 683,
     "status": "ok",
     "timestamp": 1632049844591,
     "user": {
      "displayName": "Teknofest Takım-3",
      "photoUrl": "https://lh3.googleusercontent.com/a/default-user=s64",
      "userId": "02802986957066525201"
     },
     "user_tz": -180
    },
    "id": "fvQyM37RDMB8",
    "outputId": "bba99a80-3faf-4e94-909f-332c1c3d9d87"
   },
   "outputs": [
    {
     "name": "stdout",
     "output_type": "stream",
     "text": [
      "RGBA\n",
      "RGBA\n",
      "RGBA\n",
      "RGBA\n",
      "RGBA\n",
      "RGBA\n",
      "RGBA\n",
      "RGBA\n",
      "RGBA\n",
      "RGBA\n",
      "RGBA\n",
      "RGBA\n",
      "RGBA\n",
      "RGBA\n",
      "RGBA\n"
     ]
    }
   ],
   "source": [
    "padding_zeros()"
   ]
  },
  {
   "cell_type": "code",
   "execution_count": null,
   "metadata": {
    "id": "R8H5rw_sDS9I"
   },
   "outputs": [],
   "source": []
  }
 ],
 "metadata": {
  "colab": {
   "authorship_tag": "ABX9TyMU3Y5THopkONxCS+qsUW+o",
   "collapsed_sections": [],
   "name": "Segmentation_pre-processing.ipynb",
   "provenance": []
  },
  "kernelspec": {
   "display_name": "Python 3",
   "language": "python",
   "name": "python3"
  },
  "language_info": {
   "codemirror_mode": {
    "name": "ipython",
    "version": 3
   },
   "file_extension": ".py",
   "mimetype": "text/x-python",
   "name": "python",
   "nbconvert_exporter": "python",
   "pygments_lexer": "ipython3",
   "version": "3.7.6"
  }
 },
 "nbformat": 4,
 "nbformat_minor": 1
}
